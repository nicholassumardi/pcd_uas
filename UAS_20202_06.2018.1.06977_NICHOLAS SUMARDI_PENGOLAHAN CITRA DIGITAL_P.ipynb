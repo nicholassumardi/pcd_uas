{
 "cells": [
  {
   "cell_type": "code",
   "execution_count": 1,
   "metadata": {},
   "outputs": [],
   "source": [
    "#LIBRARY YANG DIPAKAI\n",
    "import cv2\n",
    "import numpy as np\n",
    "import time"
   ]
  },
  {
   "cell_type": "markdown",
   "metadata": {},
   "source": [
    "# konversi gambar dengan library"
   ]
  },
  {
   "cell_type": "code",
   "execution_count": 3,
   "metadata": {},
   "outputs": [],
   "source": [
    "img = cv2.imread(\"Pictures/lemon_hd.jpg\")\n",
    "Resize = cv2.resize(img, (500, 580))\n",
    "\n",
    "RGB = cv2.cvtColor(img, cv2.COLOR_BGR2RGB)\n",
    "ResizeRGB= cv2.resize(RGB, (500, 500))\n",
    "\n",
    "GRAY = cv2.cvtColor(RGB, cv2.COLOR_RGB2GRAY)\n",
    "ResizeGray = cv2.resize(GRAY, (500, 500))\n",
    "\n",
    "_, Binary = cv2.threshold(GRAY, 180, 255, cv2.THRESH_BINARY)\n",
    "\n",
    "Binary = cv2.cvtColor(Binary, cv2.COLOR_GRAY2RGB)\n",
    "ResizeBinary = cv2.resize(Binary, (500, 500))\n",
    "\n",
    "height, width, channels = img.shape\n",
    "#CONVERT GAMBAR KE GRAY DAN BINARY MENGGUNAKAN LIBRARY"
   ]
  },
  {
   "cell_type": "code",
   "execution_count": 3,
   "metadata": {},
   "outputs": [
    {
     "data": {
      "text/plain": [
       "-1"
      ]
     },
     "execution_count": 3,
     "metadata": {},
     "output_type": "execute_result"
    }
   ],
   "source": [
    "#normal picture\n",
    "cv2.imshow(\"NORMAL\", Resize)\n",
    "cv2.waitKey()"
   ]
  },
  {
   "cell_type": "markdown",
   "metadata": {},
   "source": [
    "# perhitungan manual biner"
   ]
  },
  {
   "cell_type": "code",
   "execution_count": 4,
   "metadata": {},
   "outputs": [
    {
     "name": "stderr",
     "output_type": "stream",
     "text": [
      "<ipython-input-4-a83bee5b8a7f>:12: RuntimeWarning: overflow encountered in ubyte_scalars\n",
      "  b = B/(B+G+R)\n",
      "<ipython-input-4-a83bee5b8a7f>:13: RuntimeWarning: overflow encountered in ubyte_scalars\n",
      "  g = G/(B+G+R)\n",
      "<ipython-input-4-a83bee5b8a7f>:14: RuntimeWarning: overflow encountered in ubyte_scalars\n",
      "  r = R/(B+G+R)\n",
      "<ipython-input-4-a83bee5b8a7f>:12: RuntimeWarning: divide by zero encountered in ubyte_scalars\n",
      "  b = B/(B+G+R)\n",
      "<ipython-input-4-a83bee5b8a7f>:13: RuntimeWarning: divide by zero encountered in ubyte_scalars\n",
      "  g = G/(B+G+R)\n",
      "<ipython-input-4-a83bee5b8a7f>:14: RuntimeWarning: divide by zero encountered in ubyte_scalars\n",
      "  r = R/(B+G+R)\n"
     ]
    },
    {
     "name": "stdout",
     "output_type": "stream",
     "text": [
      "Loop: 9849.513292312622 ms\n"
     ]
    },
    {
     "data": {
      "text/plain": [
       "-1"
      ]
     },
     "execution_count": 4,
     "metadata": {},
     "output_type": "execute_result"
    }
   ],
   "source": [
    "##Binary Picture DENGAN PERHITUNGAN MANUAL\n",
    "ts = time.time() #MENGHITUNG WAKTU PEMROSESAN\n",
    "H,W = Resize.shape[:2] #MENGAMBIL TINGGI DAN LEBAR\n",
    "BINARY = np.zeros((H,W), np.uint8) #MEMBUAT ARRAY MENJADI ZERO ATAU 0 DENGAN BATAS 8 BIT\n",
    "\n",
    "for i in range(H):\n",
    "    for j in range(W):\n",
    "        B=Resize[i,j,0] #mengambil nilai BLUE DARI GAMBAR\n",
    "        G=Resize[i,j,1] #mengambil nilai GREEN DARI GAMBAR\n",
    "        R=Resize[i,j,2] #mengambil nilai RED DARI GAMBAR\n",
    "#RUMUS PERHITUNGAN NORMALISASI RGB\n",
    "        b = B/(B+G+R)\n",
    "        g = G/(B+G+R)\n",
    "        r = R/(B+G+R)\n",
    "#AMBANG BATAS/ TRESHOLD DIPEROLEH NILAI r dan g dari perhitungan warna LEMON pada umumnya. Untuk B tidak disertakan karena nilai B pada warna lemon adalah 0.\n",
    "        if(r > 0.5 and r < 2) and (g > 0.4 and g < 2): \n",
    "#JIKA MEMENUHI NILAI TRESHOLD MAKA DIBERI WARNA 255 YAITU PUTIH\n",
    "            BINARY[i,j] = np.clip(255 * Resize[i,j,0]  + 255* Resize[i,j,1] + 255 * Resize[i,j,2], 0, 255)\n",
    "        else:\n",
    "#JIKA TIDAK MEMENUHI NILAI TRESHOLD MAKA DIBERI WARNA 0 YAITU HITAM\n",
    "            BINARY[i,j] = np.clip(0 * Resize[i,j,0]  + 0* Resize[i,j,1] + 0 * Resize[i,j,2], 0, 255)\n",
    "t = (time.time() -ts)\n",
    "print(\"Loop: {:} ms\".format(t*1000))\n",
    "cv2.imshow(\"BINARY\", BINARY)\n",
    "cv2.waitKey()"
   ]
  },
  {
   "cell_type": "markdown",
   "metadata": {},
   "source": [
    "# perhitungan manual grayscale"
   ]
  },
  {
   "cell_type": "code",
   "execution_count": 7,
   "metadata": {},
   "outputs": [
    {
     "name": "stderr",
     "output_type": "stream",
     "text": [
      "<ipython-input-7-f8c42240cd56>:12: RuntimeWarning: overflow encountered in ubyte_scalars\n",
      "  b = B/(B+G+R)\n",
      "<ipython-input-7-f8c42240cd56>:13: RuntimeWarning: overflow encountered in ubyte_scalars\n",
      "  g = G/(B+G+R)\n",
      "<ipython-input-7-f8c42240cd56>:14: RuntimeWarning: overflow encountered in ubyte_scalars\n",
      "  r = R/(B+G+R)\n",
      "<ipython-input-7-f8c42240cd56>:12: RuntimeWarning: divide by zero encountered in ubyte_scalars\n",
      "  b = B/(B+G+R)\n",
      "<ipython-input-7-f8c42240cd56>:13: RuntimeWarning: divide by zero encountered in ubyte_scalars\n",
      "  g = G/(B+G+R)\n",
      "<ipython-input-7-f8c42240cd56>:14: RuntimeWarning: divide by zero encountered in ubyte_scalars\n",
      "  r = R/(B+G+R)\n"
     ]
    },
    {
     "name": "stdout",
     "output_type": "stream",
     "text": [
      "Loop: 9984.326601028442 ms\n"
     ]
    },
    {
     "data": {
      "text/plain": [
       "-1"
      ]
     },
     "execution_count": 7,
     "metadata": {},
     "output_type": "execute_result"
    }
   ],
   "source": [
    "##Grayscale Picture DENGAN PERHITUNGAN MANUAL\n",
    "ts = time.time() #MENGHITUNG WAKTU PEMROSESAN\n",
    "H,W = Resize.shape[:2]#MENGAMBIL TINGGI DAN LEBAR\n",
    "GRAY = np.zeros((H,W), np.uint8)#MEMBUAT ARRAY MENJADI ZERO ATAU 0 DENGAN BATAS 8 BIT\n",
    "\n",
    "for i in range(H):\n",
    "    for j in range(W):\n",
    "        B=Resize[i,j,0] #mengambil nilai BLUE DARI GAMBAR\n",
    "        G=Resize[i,j,1] #mengambil nilai GREEN DARI GAMBAR\n",
    "        R=Resize[i,j,2] #mengambil nilai RED DARI GAMBAR\n",
    "#RUMUS PERHITUNGAN NORMALISASI RGB\n",
    "        b = B/(B+G+R)\n",
    "        g = G/(B+G+R)\n",
    "        r = R/(B+G+R)\n",
    "#AMBANG BATAS/ TRESHOLD DIPEROLEH NILAI r dan g dari perhitungan warna LEMON pada umumnya. Untuk nilai b tidak disertakan karena nilai b pada warna lemon adalah 0.\n",
    "        if(r > 0.5 and r < 2) and (g > 0.4 and g < 2):\n",
    "#JIKA MEMENUHI NILAI TRESHOLD MAKA DIMASUKAN KEDALAM RUMUS GRAYSCALE YAITU SEBAGAI BERIKUT :\n",
    "             GRAY[i,j] = np.clip(0.07 * Resize[i,j,0]  + 0.72 * Resize[i,j,1] + 0.21 * Resize[i,j,2], 0, 255)\n",
    "        else:\n",
    "#JIKA TIDAK MEMENUHI NILAI TRESHOLD JUGA DIMASUKAN KEDALAM RUMUS GRAYSCALE YAITU SEBAGAI BERIKUT WALAUPUN MEMILIKI RUMUS SAMA TETAPI HASIL PERHITUNGAN AKAN MEMISAHKAN ANTAR OBJECT DAN BACKGROUND :\n",
    "              GRAY[i,j] = np.clip(0.07 * Resize[i,j,0]  + 0.72 * Resize[i,j,1] + 0.21 * Resize[i,j,2], 0, 255)\n",
    "t = (time.time() -ts)\n",
    "print(\"Loop: {:} ms\".format(t*1000))\n",
    "cv2.imshow(\"GRAY\", GRAY)\n",
    "cv2.waitKey()"
   ]
  },
  {
   "cell_type": "code",
   "execution_count": 8,
   "metadata": {},
   "outputs": [],
   "source": [
    "#HASIL OUTPUT DARI LIBRARY UNTUK PERBANDINGAN DENGAN PERHITUNGAN MANUAL\n",
    "cv2.imshow('Normal Lemon',Resize)\n",
    "cv2.imshow('Gray Lemon',ResizeGray)\n",
    "cv2.imshow('Binary Lemon',ResizeBinary)\n",
    "cv2.waitKey(0)\n",
    "cv2.destroyAllWindows()"
   ]
  },
  {
   "cell_type": "raw",
   "metadata": {},
   "source": [
    "#kesimpulan : jika dibandingkan kedua hasil antara manual dengan library ditunjukan bahwa hasil library lebih bagus daripada\n",
    "perhitungan manual,  hal tersebut bisa terjadi karena pemilihan nilai treshold pada normalisasi RGB yang tidak tepat atau kurang sesuai."
   ]
  },
  {
   "cell_type": "code",
   "execution_count": null,
   "metadata": {},
   "outputs": [],
   "source": []
  }
 ],
 "metadata": {
  "kernelspec": {
   "display_name": "Python 3",
   "language": "python",
   "name": "python3"
  },
  "language_info": {
   "codemirror_mode": {
    "name": "ipython",
    "version": 3
   },
   "file_extension": ".py",
   "mimetype": "text/x-python",
   "name": "python",
   "nbconvert_exporter": "python",
   "pygments_lexer": "ipython3",
   "version": "3.8.5"
  }
 },
 "nbformat": 4,
 "nbformat_minor": 4
}
