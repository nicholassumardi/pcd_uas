{
 "cells": [
  {
   "cell_type": "code",
   "execution_count": 13,
   "metadata": {},
   "outputs": [],
   "source": [
    "import cv2\n",
    "import numpy as np\n",
    "import time"
   ]
  },
  {
   "cell_type": "code",
   "execution_count": 14,
   "metadata": {},
   "outputs": [],
   "source": [
    "img = cv2.imread(\"Pictures/lemon_hd.jpg\")\n",
    "Resize = cv2.resize(img, (500, 580))\n",
    "\n",
    "RGB = cv2.cvtColor(img, cv2.COLOR_BGR2RGB)\n",
    "ResizeRGB= cv2.resize(RGB, (500, 500))\n",
    "\n",
    "GRAY = cv2.cvtColor(RGB, cv2.COLOR_RGB2GRAY)\n",
    "ResizeGray = cv2.resize(GRAY, (500, 500))\n",
    "\n",
    "_, Binary = cv2.threshold(GRAY, 180, 255, cv2.THRESH_BINARY)\n",
    "\n",
    "Binary = cv2.cvtColor(Binary, cv2.COLOR_GRAY2RGB)\n",
    "ResizeBinary = cv2.resize(Binary, (500, 500))\n",
    "\n",
    "height, width, channels = img.shape"
   ]
  },
  {
   "cell_type": "code",
   "execution_count": 15,
   "metadata": {},
   "outputs": [
    {
     "data": {
      "text/plain": [
       "-1"
      ]
     },
     "execution_count": 15,
     "metadata": {},
     "output_type": "execute_result"
    }
   ],
   "source": [
    "#normal picture\n",
    "cv2.imshow(\"NORMAL\", Resize)\n",
    "cv2.waitKey()"
   ]
  },
  {
   "cell_type": "code",
   "execution_count": 17,
   "metadata": {},
   "outputs": [
    {
     "name": "stderr",
     "output_type": "stream",
     "text": [
      "<ipython-input-17-7f1c9be15b37>:12: RuntimeWarning: overflow encountered in ubyte_scalars\n",
      "  b = B/(B+G+R)\n",
      "<ipython-input-17-7f1c9be15b37>:13: RuntimeWarning: overflow encountered in ubyte_scalars\n",
      "  g = G/(B+G+R)\n",
      "<ipython-input-17-7f1c9be15b37>:14: RuntimeWarning: overflow encountered in ubyte_scalars\n",
      "  r = R/(B+G+R)\n",
      "<ipython-input-17-7f1c9be15b37>:12: RuntimeWarning: divide by zero encountered in ubyte_scalars\n",
      "  b = B/(B+G+R)\n",
      "<ipython-input-17-7f1c9be15b37>:13: RuntimeWarning: divide by zero encountered in ubyte_scalars\n",
      "  g = G/(B+G+R)\n",
      "<ipython-input-17-7f1c9be15b37>:14: RuntimeWarning: divide by zero encountered in ubyte_scalars\n",
      "  r = R/(B+G+R)\n"
     ]
    },
    {
     "name": "stdout",
     "output_type": "stream",
     "text": [
      "Loop: 9679.831743240356 ms\n"
     ]
    },
    {
     "data": {
      "text/plain": [
       "-1"
      ]
     },
     "execution_count": 17,
     "metadata": {},
     "output_type": "execute_result"
    }
   ],
   "source": [
    "##Binary Picture\n",
    "ts = time.time()\n",
    "H,W = Resize.shape[:2]\n",
    "BINARY = np.zeros((H,W), np.uint8)\n",
    "\n",
    "for i in range(H):\n",
    "    for j in range(W):\n",
    "        B=Resize[i,j,0]\n",
    "        G=Resize[i,j,1]\n",
    "        R=Resize[i,j,2]\n",
    "\n",
    "        b = B/(B+G+R)\n",
    "        g = G/(B+G+R)\n",
    "        r = R/(B+G+R)\n",
    "        \n",
    "        if(r > 0.5 and r < 2) and (g > 0.4 and g < 2):\n",
    "            BINARY[i,j] = np.clip(255 * Resize[i,j,0]  + 255* Resize[i,j,1] + 255 * Resize[i,j,2], 0, 255)\n",
    "        else:\n",
    "            BINARY[i,j] = np.clip(0 * Resize[i,j,0]  + 0* Resize[i,j,1] + 0 * Resize[i,j,2], 0, 255)\n",
    "        \n",
    "\n",
    "\n",
    "t = (time.time() -ts)\n",
    "print(\"Loop: {:} ms\".format(t*1000))\n",
    "cv2.imshow(\"BINARY\", BINARY)\n",
    "cv2.waitKey()"
   ]
  },
  {
   "cell_type": "code",
   "execution_count": 16,
   "metadata": {},
   "outputs": [
    {
     "name": "stderr",
     "output_type": "stream",
     "text": [
      "<ipython-input-16-a714ca0331a0>:12: RuntimeWarning: overflow encountered in ubyte_scalars\n",
      "  b = B/(B+G+R)\n",
      "<ipython-input-16-a714ca0331a0>:13: RuntimeWarning: overflow encountered in ubyte_scalars\n",
      "  g = G/(B+G+R)\n",
      "<ipython-input-16-a714ca0331a0>:14: RuntimeWarning: overflow encountered in ubyte_scalars\n",
      "  r = R/(B+G+R)\n",
      "<ipython-input-16-a714ca0331a0>:12: RuntimeWarning: divide by zero encountered in ubyte_scalars\n",
      "  b = B/(B+G+R)\n",
      "<ipython-input-16-a714ca0331a0>:13: RuntimeWarning: divide by zero encountered in ubyte_scalars\n",
      "  g = G/(B+G+R)\n",
      "<ipython-input-16-a714ca0331a0>:14: RuntimeWarning: divide by zero encountered in ubyte_scalars\n",
      "  r = R/(B+G+R)\n"
     ]
    },
    {
     "name": "stdout",
     "output_type": "stream",
     "text": [
      "Loop: 10073.72760772705 ms\n"
     ]
    },
    {
     "data": {
      "text/plain": [
       "-1"
      ]
     },
     "execution_count": 16,
     "metadata": {},
     "output_type": "execute_result"
    }
   ],
   "source": [
    "##Grayscale Picture\n",
    "ts = time.time()\n",
    "H,W = Resize.shape[:2]\n",
    "GRAY = np.zeros((H,W), np.uint8)\n",
    "\n",
    "for i in range(H):\n",
    "    for j in range(W):\n",
    "        B=Resize[i,j,0]\n",
    "        G=Resize[i,j,1]\n",
    "        R=Resize[i,j,2]\n",
    "\n",
    "        b = B/(B+G+R)\n",
    "        g = G/(B+G+R)\n",
    "        r = R/(B+G+R)\n",
    "        \n",
    "        if(r > 0.5 and r < 2) and (g > 0.4 and g < 2):\n",
    "             GRAY[i,j] = np.clip(0.07 * Resize[i,j,0]  + 0.72 * Resize[i,j,1] + 0.21 * Resize[i,j,2], 0, 255)\n",
    "        else:\n",
    "            #diberi background 255 untuk memberikan kejelasan pada benda yang di grayscale\n",
    "             GRAY[i,j] = np.clip(255 * Resize[i,j,0]  + 255 * Resize[i,j,1] + 255 * Resize[i,j,2], 0, 255)\n",
    "        \n",
    "\n",
    "\n",
    "t = (time.time() -ts)\n",
    "print(\"Loop: {:} ms\".format(t*1000))\n",
    "cv2.imshow(\"GRAY\", GRAY)\n",
    "cv2.waitKey()"
   ]
  },
  {
   "cell_type": "code",
   "execution_count": 12,
   "metadata": {},
   "outputs": [],
   "source": [
    "cv2.imshow('Normal Lemon',Resize)\n",
    "cv2.imshow('Gray Lemon',ResizeGray)\n",
    "cv2.imshow('Binary Lemon',ResizeBinary)\n",
    "cv2.waitKey(0)\n",
    "cv2.destroyAllWindows()"
   ]
  },
  {
   "cell_type": "code",
   "execution_count": null,
   "metadata": {},
   "outputs": [],
   "source": []
  }
 ],
 "metadata": {
  "kernelspec": {
   "display_name": "Python 3",
   "language": "python",
   "name": "python3"
  },
  "language_info": {
   "codemirror_mode": {
    "name": "ipython",
    "version": 3
   },
   "file_extension": ".py",
   "mimetype": "text/x-python",
   "name": "python",
   "nbconvert_exporter": "python",
   "pygments_lexer": "ipython3",
   "version": "3.8.5"
  }
 },
 "nbformat": 4,
 "nbformat_minor": 4
}
